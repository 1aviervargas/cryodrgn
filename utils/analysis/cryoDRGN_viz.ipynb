{
 "cells": [
  {
   "cell_type": "code",
   "execution_count": null,
   "metadata": {
    "scrolled": false
   },
   "outputs": [],
   "source": [
    "import pandas as pd\n",
    "import numpy as np\n",
    "import pickle\n",
    "import subprocess\n",
    "import os, sys\n",
    "sys.path.insert(0,f'{os.environ[\"CDRGN_SRC\"]}/lib-python')\n",
    "import analysis\n",
    "import utils\n",
    "import dataset\n",
    "\n",
    "import matplotlib.pyplot as plt\n",
    "import seaborn as sns\n",
    "import plotly.graph_objs as go\n",
    "import plotly.offline as py\n",
    "from ipywidgets import interact, interactive, HBox, VBox\n",
    "from scipy.spatial.transform import Rotation as RR\n",
    "py.init_notebook_mode()\n",
    "from IPython.display import FileLink, FileLinks"
   ]
  },
  {
   "cell_type": "markdown",
   "metadata": {},
   "source": [
    "### Load results"
   ]
  },
  {
   "cell_type": "code",
   "execution_count": null,
   "metadata": {
    "scrolled": false
   },
   "outputs": [],
   "source": [
    "# Specify the workdir and the epoch number to analyze\n",
    "WORKDIR = '.' \n",
    "EPOCH = 49 # CHANGE ME"
   ]
  },
  {
   "cell_type": "code",
   "execution_count": null,
   "metadata": {
    "scrolled": false
   },
   "outputs": [],
   "source": [
    "# Load z\n",
    "with open(f'{WORKDIR}/z.{EPOCH}.pkl','rb') as f:\n",
    "    z = pickle.load(f)\n",
    "    z_logvar = pickle.load(f)"
   ]
  },
  {
   "cell_type": "code",
   "execution_count": null,
   "metadata": {},
   "outputs": [],
   "source": [
    "# Load umap\n",
    "umap = utils.load_pkl(f'{WORKDIR}/umap.{EPOCH}.pkl')"
   ]
  },
  {
   "cell_type": "code",
   "execution_count": null,
   "metadata": {},
   "outputs": [],
   "source": [
    "# Load kmeans\n",
    "kmeans_labels = utils.load_pkl(f'{WORKDIR}/kmeans.{EPOCH}.labels.pkl')\n",
    "kmeans_centers = np.loadtxt(f'{WORKDIR}/kmeans.{EPOCH}.centers.txt')\n",
    "# Or run kmeans\n",
    "#kmeans_labels, kmeans_centers = analysis.cluster_kmeans(z, 20)\n",
    "#_, centers_i = analysis.get_nearest_point(z,kmeans_centers)\n"
   ]
  },
  {
   "cell_type": "code",
   "execution_count": null,
   "metadata": {
    "scrolled": false
   },
   "outputs": [],
   "source": [
    "# Load poses and convert rotation matrices to euler angles\n",
    "pose_pkl = f'{WORKDIR}/pose.{EPOCH}.pkl'\n",
    "if os.path.exists(pose_pkl):\n",
    "    with open(pose_pkl,'rb') as f:\n",
    "        rot = pickle.load(f)\n",
    "        trans = pickle.load(f)\n",
    "else:\n",
    "    config = utils.load_pkl(f'{WORKDIR}/config.pkl')\n",
    "    pose_pkl = config['dataset_args']['poses']\n",
    "    if len(pose_pkl) == 2:\n",
    "        rot, trans = utils.load_pkl(pose_pkl[0]), utils.load_pkl(pose_pkl[1])\n",
    "    else:\n",
    "        (rot,trans) = utils.load_pkl(pose_pkl)\n",
    "euler = np.array([RR.from_dcm(rr).as_euler('XYX') for rr in rot])*180/np.pi"
   ]
  },
  {
   "cell_type": "code",
   "execution_count": null,
   "metadata": {},
   "outputs": [],
   "source": [
    "# Load input particles\n",
    "particles = dataset.load_particles(config['dataset_args']['particles'],\n",
    "                            lazy=True,\n",
    "                            datadir=config['dataset_args']['datadir'])"
   ]
  },
  {
   "cell_type": "markdown",
   "metadata": {},
   "source": [
    "### PCA"
   ]
  },
  {
   "cell_type": "code",
   "execution_count": null,
   "metadata": {},
   "outputs": [],
   "source": [
    "pc, pca = analysis.run_pca(z)\n",
    "plt.scatter(pc[:,0], pc[:,1], alpha=.1, s=1)\n",
    "plt.xlabel('PC1 ({:.2f})'.format(pca.explained_variance_ratio_[0]))\n",
    "plt.ylabel('PC2 ({:.2f})'.format(pca.explained_variance_ratio_[1]))"
   ]
  },
  {
   "cell_type": "markdown",
   "metadata": {},
   "source": [
    "### Pose distribution"
   ]
  },
  {
   "cell_type": "code",
   "execution_count": null,
   "metadata": {},
   "outputs": [],
   "source": [
    "# rotations\n",
    "analysis.plot_euler(euler[:,0],euler[:,1], euler[:,2])"
   ]
  },
  {
   "cell_type": "code",
   "execution_count": null,
   "metadata": {},
   "outputs": [],
   "source": [
    "# translations\n",
    "sns.jointplot(trans[:,0],trans[:,1],\n",
    "              kind='hex').set_axis_labels('tx','ty')"
   ]
  },
  {
   "cell_type": "markdown",
   "metadata": {},
   "source": [
    "### View UMAP"
   ]
  },
  {
   "cell_type": "code",
   "execution_count": null,
   "metadata": {},
   "outputs": [],
   "source": [
    "plt.scatter(umap[:,0], umap[:,1], alpha=.1, s=1)\n",
    "plt.xlabel('UMAP1')\n",
    "plt.ylabel('UMAP2')"
   ]
  },
  {
   "cell_type": "markdown",
   "metadata": {},
   "source": [
    "### View K-means clusters"
   ]
  },
  {
   "cell_type": "code",
   "execution_count": null,
   "metadata": {},
   "outputs": [],
   "source": [
    "K = len(set(kmeans_labels))\n",
    "c = pca.transform(kmeans_centers) # transform with PC basis\n",
    "analysis.plot_by_cluster(pc[:,0], pc[:,1], K, \n",
    "                         kmeans_labels, \n",
    "                         centers=c,\n",
    "                         annotate=True)\n",
    "plt.xlabel('PC1')\n",
    "plt.ylabel('PC2')"
   ]
  },
  {
   "cell_type": "code",
   "execution_count": null,
   "metadata": {},
   "outputs": [],
   "source": [
    "fig, ax = analysis.plot_by_cluster_subplot(pc[:,0], pc[:,1], K, \n",
    "                            kmeans_labels)"
   ]
  },
  {
   "cell_type": "code",
   "execution_count": null,
   "metadata": {},
   "outputs": [],
   "source": [
    "# use nearest point as center so we don't have to rerun umap\n",
    "analysis.plot_by_cluster(umap[:,0], umap[:,1], K, \n",
    "                         kmeans_labels, \n",
    "                         centers_i=centers_i,\n",
    "                         annotate=True)\n",
    "plt.xlabel('UMAP1')\n",
    "plt.ylabel('UMAP2')"
   ]
  },
  {
   "cell_type": "code",
   "execution_count": null,
   "metadata": {},
   "outputs": [],
   "source": [
    "fig, ax = analysis.plot_by_cluster_subplot(umap[:,0], umap[:,1], K, \n",
    "                            kmeans_labels)"
   ]
  },
  {
   "cell_type": "markdown",
   "metadata": {},
   "source": [
    "# Interactive visualization"
   ]
  },
  {
   "cell_type": "code",
   "execution_count": null,
   "metadata": {
    "scrolled": false
   },
   "outputs": [],
   "source": [
    "# Load data into a pandas dataframe\n",
    "df = analysis.load_dataframe(z=z, \n",
    "                             pc=pc, \n",
    "                             euler=euler, \n",
    "                             trans=trans, \n",
    "                             labels=kmeans_labels, \n",
    "                             umap=umap)\n",
    "df.head()"
   ]
  },
  {
   "cell_type": "code",
   "execution_count": null,
   "metadata": {},
   "outputs": [],
   "source": [
    "widget, fig = analysis.ipy_plot_interactive_annotate(df,centers_i)\n",
    "VBox((widget,fig))"
   ]
  },
  {
   "cell_type": "markdown",
   "metadata": {},
   "source": [
    "## Interactive selection\n",
    "1. Select points with the lasso tool. The table is dynamically updated with the most recent selection's indices. \n",
    "2. Save indices for downstream analysis/viz (see next cell).\n",
    "\n",
    "(Double click to clear selection)"
   ]
  },
  {
   "cell_type": "code",
   "execution_count": null,
   "metadata": {},
   "outputs": [],
   "source": [
    "widget, fig, ind_table = analysis.ipy_plot_interactive(df)\n",
    "VBox((widget,fig,ind_table))"
   ]
  },
  {
   "cell_type": "code",
   "execution_count": null,
   "metadata": {},
   "outputs": [],
   "source": [
    "ind_selected = ind_table.data[0].cells.values[0]\n",
    "ind_selected = np.array(ind_selected)\n",
    "ind_selected_not = np.array(sorted(set(np.arange(50000)) - set(ind_selected)))\n",
    "\n",
    "print('Selected indices:')\n",
    "print(ind_selected)\n",
    "print('Number of selected points:')\n",
    "print(len(ind_selected))\n",
    "print('Number of unselected points:')\n",
    "print(len(ind_selected_not))"
   ]
  },
  {
   "cell_type": "markdown",
   "metadata": {},
   "source": [
    "### Visualize selected subset"
   ]
  },
  {
   "cell_type": "code",
   "execution_count": null,
   "metadata": {},
   "outputs": [],
   "source": [
    "# Subset of dataframe\n",
    "df_sub = df.loc[ind_selected]\n",
    "df_sub_not = df.loc[ind_selected_not]"
   ]
  },
  {
   "cell_type": "code",
   "execution_count": null,
   "metadata": {
    "scrolled": true
   },
   "outputs": [],
   "source": [
    "# View pose distribution\n",
    "analysis.plot_euler(df_sub.theta, df_sub.phi, df_sub.psi)"
   ]
  },
  {
   "cell_type": "code",
   "execution_count": null,
   "metadata": {},
   "outputs": [],
   "source": [
    "widget, fig, ind_table = analysis.ipy_plot_interactive(df_sub)\n",
    "VBox((widget,fig,ind_table))"
   ]
  },
  {
   "cell_type": "markdown",
   "metadata": {},
   "source": [
    "# View particles"
   ]
  },
  {
   "cell_type": "code",
   "execution_count": null,
   "metadata": {},
   "outputs": [],
   "source": [
    "particle_ind = ind_selected # or set to new selection"
   ]
  },
  {
   "cell_type": "code",
   "execution_count": null,
   "metadata": {},
   "outputs": [],
   "source": [
    "if len(particle_ind) > 9:\n",
    "    ind_subset9 = np.random.choice(particle_ind, 9, replace=False)\n",
    "else: \n",
    "    ind_subset9 = particle_ind\n",
    "p = [particles[ii].get() for ii in ind_subset9]\n",
    "analysis.plot_projections(p, ind_subset9)\n",
    "widget, fig = analysis.ipy_plot_interactive_annotate(df,ind_subset9)\n",
    "VBox((widget,fig))"
   ]
  },
  {
   "cell_type": "markdown",
   "metadata": {},
   "source": [
    "# Generate volumes"
   ]
  },
  {
   "cell_type": "code",
   "execution_count": null,
   "metadata": {},
   "outputs": [],
   "source": [
    "# choose z indices\n",
    "vol_ind = [] "
   ]
  },
  {
   "cell_type": "code",
   "execution_count": null,
   "metadata": {},
   "outputs": [],
   "source": [
    "widget, fig = analysis.ipy_plot_interactive_annotate(df,vol_ind)\n",
    "VBox((widget,fig))"
   ]
  },
  {
   "cell_type": "code",
   "execution_count": null,
   "metadata": {},
   "outputs": [],
   "source": [
    "def get_outdir():\n",
    "    for i in range(100000):\n",
    "        outdir = f'{WORKDIR}/reconstruct.{EPOCH}_{i:06d}'\n",
    "        if os.path.exists: continue\n",
    "        else: break\n",
    "    return outdir\n",
    "\n",
    "def generate_volumes(zvalues, outdir):\n",
    "    if not os.path.exists(outdir):\n",
    "        os.mkdir(outdir)\n",
    "    np.savetxt(f'{outdir}/zfile.txt', zvalues)\n",
    "    analysis.gen_volumes(f'{WORKDIR}/weights.{i}.pkl',\n",
    "                         f'{WORKDIR}/config.pkl',\n",
    "                         f'{outdir}/zfile.txt',\n",
    "                         f'{outdir}')\n",
    "    FileLinks(f'{outdir}/')"
   ]
  },
  {
   "cell_type": "code",
   "execution_count": null,
   "metadata": {},
   "outputs": [],
   "source": [
    "outdir = get_outdir()\n",
    "print(outdir)"
   ]
  },
  {
   "cell_type": "code",
   "execution_count": null,
   "metadata": {},
   "outputs": [],
   "source": [
    "generate_volumes(z[vol_ind], outdir)"
   ]
  }
 ],
 "metadata": {
  "kernelspec": {
   "display_name": "Python 3",
   "language": "python",
   "name": "python3"
  },
  "language_info": {
   "codemirror_mode": {
    "name": "ipython",
    "version": 3
   },
   "file_extension": ".py",
   "mimetype": "text/x-python",
   "name": "python",
   "nbconvert_exporter": "python",
   "pygments_lexer": "ipython3",
   "version": "3.7.4"
  }
 },
 "nbformat": 4,
 "nbformat_minor": 2
}
